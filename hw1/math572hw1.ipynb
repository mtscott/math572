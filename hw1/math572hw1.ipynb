{
 "cells": [
  {
   "cell_type": "markdown",
   "metadata": {},
   "source": [
    "Mitchell Scott (mtscot4)\n",
    "\n",
    "Math 572 (SP 25)\n",
    "\n",
    "Prof. A. Veneziani\n",
    "\n",
    "Homework \\# 1"
   ]
  },
  {
   "cell_type": "markdown",
   "metadata": {},
   "source": [
    "## Exercise \\# 1\n",
    "\n",
    "Consider the following boundary value problem (Reaction-Diffusion):\n",
    "$$\n",
    "-\\mu \\frac{\\text{d}^2u}{\\text{d}x^2} + \\sigma u = 0, \\quad x\\in(0,1), u(0) = 0, u(1) = 1, \\quad \\mu,\\sigma>0.\n",
    "$$\n",
    "\n",
    "Answer the following questions:\n",
    "\n",
    "### Verify that the exact solution reads $$u_{\\text{ex}} = \\frac{e^{\\alpha x} - e^{-\\alpha x}}{e^\\alpha - e^{-\\alpha}}, \\quad \\alpha = \\sqrt{\\frac{\\sigma}{\\mu}}$$\n",
    "*Solution:* \n",
    "Since $u_{\\text{ex}}$ is defined above, we simply take the second derivative of it to ensure equality.\n",
    "$$u_{\\text{ex}} = \\frac{1}{e^\\alpha - e^{-\\alpha}}(e^{\\alpha x} - e^{-\\alpha x})\\\\\n",
    "u'_{\\text{ex}} = \\frac{\\alpha}{e^\\alpha - e^{-\\alpha}}(e^{\\alpha x} - e^{-\\alpha x})\\\\\n",
    "u''_{\\text{ex}} =\\frac{\\alpha^2}{e^\\alpha - e^{-\\alpha}}(e^{\\alpha x} - e^{-\\alpha x})$$\n",
    "\n",
    "Now we plug this into the ODE to see:\n",
    "$$ -\\mu \\frac{\\text{d}^2u_{\\text{ex}}}{\\text{d}x^2} + \\sigma u_{\\text{ex}} = 0\\\\\n",
    "-\\mu  \\frac{\\alpha^2}{e^\\alpha - e^{-\\alpha}}(e^{\\alpha x} - e^{-\\alpha x}) + \\sigma \\frac{1}{e^\\alpha - e^{-\\alpha}}(e^{\\alpha x} - e^{-\\alpha x}) = 0\\\\\n",
    "-\\mu  \\frac{\\sigma}{\\mu(e^\\alpha - e^{-\\alpha})}(e^{\\alpha x} - e^{-\\alpha x}) + \\sigma \\frac{1}{e^\\alpha - e^{-\\alpha}}(e^{\\alpha x} - e^{-\\alpha x}) = 0\\\\\n",
    "- \\frac{\\sigma}{e^\\alpha - e^{-\\alpha}}(e^{\\alpha x} - e^{-\\alpha x}) + \\sigma \\frac{1}{e^\\alpha - e^{-\\alpha}}(e^{\\alpha x} - e^{-\\alpha x}) =0.\n",
    "$$\n",
    "\n",
    "Now it remains to be shown that $u_{\\text{ex}}$ obeys the boundary conditions. Obvious it does since\n",
    "$$ u_{\\text{ex}}(0) = \\frac{e^{\\alpha 0} - e^{-\\alpha 0}}{e^\\alpha - e^{-\\alpha}} = 0\\\\\n",
    "u_{\\text{ex}}(1) = \\frac{e^{1\\alpha } - e^{-1\\alpha }}{e^\\alpha - e^{-\\alpha}} = 1.\n",
    "$$\n",
    "\n",
    "Since the $u_{\\text{ex}}$ satisfies the ODE and the boundary condition, it must be a solution to the ODE.\n",
    "\n",
    "\n",
    "### Consider the Finite Difference Scheme: $$ -\\mu \\frac{u_{i+1}-2u_i +u_{i-1}}{\\Delta x^2} + \\sigma u_i =0,$$ and prove that it is stable and second order accurate.\n",
    "\n",
    "\n",
    "\n",
    "### Verify your answer in a dedicated code."
   ]
  },
  {
   "cell_type": "code",
   "execution_count": null,
   "metadata": {},
   "outputs": [],
   "source": []
  },
  {
   "cell_type": "markdown",
   "metadata": {},
   "source": [
    "## Exercise 2\n",
    "\n",
    "Consider the Advection - Diffusion problem:\n",
    "$$\n",
    "-\\mu \\frac{\\text{d}^2u}{\\text{d}x^2} + \\beta \\frac{\\text{d}u}{\\text{d}x} = 0, \\quad x\\in(0,1), u(0) = 0, u(1) = 1, \\quad \\mu > 0.\n",
    "$$\n",
    "\n",
    "Answer the following questions:\n",
    "\n",
    "### Specify under what condition on $\\Delta x$ the centered second order finite difference discretization $$-\\mu \\frac{u_{i+1}-2u_i +u_{i-1}}{\\Delta x^2} + \\beta \\frac{u_{i+1} - u_{i-1}}{2\\Delta x} =0 $$ does not produce oscillations. Sketch a proof of the conditino you find.\n",
    "\n",
    "### Produce a **second order upwind method** (different from Sharfetter Gummel) depending on the sign of $\\beta$.\n",
    "\n",
    "### Implement your idea and verify your expectations for $|\\beta| \\gg \\mu$."
   ]
  },
  {
   "cell_type": "code",
   "execution_count": null,
   "metadata": {},
   "outputs": [],
   "source": []
  }
 ],
 "metadata": {
  "kernelspec": {
   "display_name": "Python 3",
   "language": "python",
   "name": "python3"
  },
  "language_info": {
   "name": "python",
   "version": "3.12.5"
  }
 },
 "nbformat": 4,
 "nbformat_minor": 2
}
